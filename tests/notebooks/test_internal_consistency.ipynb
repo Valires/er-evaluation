{
 "cells": [
  {
   "cell_type": "code",
   "execution_count": 1,
   "metadata": {},
   "outputs": [],
   "source": [
    "import pandas as pd\n",
    "import numpy as np\n",
    "from hamcrest import assert_that, equal_to\n",
    "\n",
    "from er_evaluation.error_analysis import (\n",
    "    record_error_table,\n",
    "    expected_missing_links_from_table,\n",
    "    expected_size_difference_from_table,\n",
    "    expected_extra_links_from_table,\n",
    "    cluster_sizes_from_table\n",
    ")\n",
    "from er_evaluation.summary import cluster_sizes\n",
    "from er_evaluation.estimators import (\n",
    "    pairwise_recall_design_estimate,\n",
    "    pairwise_precision_design_estimate,\n",
    ")\n",
    "from er_evaluation.estimators._estimators import (\n",
    "    ratio_estimator, \n",
    "    std_dev,\n",
    ")"
   ]
  },
  {
   "attachments": {},
   "cell_type": "markdown",
   "metadata": {},
   "source": [
    "## Test two different precision/recall estimator computations are equal "
   ]
  },
  {
   "cell_type": "code",
   "execution_count": 11,
   "metadata": {},
   "outputs": [
    {
     "name": "stderr",
     "output_type": "stream",
     "text": [
      "/home/olivieratduke/Desktop/Research/er-evaluation/er_evaluation/estimators.py:129: UserWarning: Some sample elements are not in the prediction.\n",
      "  warnings.warn(\"Some sample elements are not in the prediction.\")\n",
      "/home/olivieratduke/Desktop/Research/er-evaluation/er_evaluation/estimators.py:129: UserWarning: Some sample elements are not in the prediction.\n",
      "  warnings.warn(\"Some sample elements are not in the prediction.\")\n"
     ]
    }
   ],
   "source": [
    "prediction = pd.Series(index=[1,2,3,4,5,6,7,8], data=[1,1,2,3,2,4,4,4])\n",
    "reference = pd.Series(index=[1,2,3,4,5,6,7,8], data=[\"c1\", \"c1\", \"c1\", \"c2\", \"c2\", \"c3\", \"c3\", \"c4\"])\n",
    "sample = pd.Series(index=[1,2,3,4,5], data=[\"c1\", \"c1\", \"c1\", \"c2\", \"c2\"])\n",
    "\n",
    "for prediction, sample in [\n",
    "    (prediction, sample),\n",
    "    (sample, prediction),\n",
    "    (prediction, reference),\n",
    "    (reference, prediction),\n",
    "    (prediction, prediction),\n",
    "]:\n",
    "    error_table = record_error_table(prediction, sample)\n",
    "    cs = cluster_sizes_from_table(error_table)\n",
    "    E_miss = expected_missing_links_from_table(error_table)\n",
    "    E_size = expected_size_difference_from_table(error_table)\n",
    "    weights = 1/cs\n",
    "\n",
    "    N = cs*(cs - 1 - E_miss) * weights\n",
    "    D = cs*(cs - 1 + E_size) * weights\n",
    "    D1 = cs*(cs - 1) * weights\n",
    "\n",
    "    assert_that(\n",
    "        pairwise_precision_design_estimate(prediction, sample, weights=\"cluster_size\"),\n",
    "        equal_to(\n",
    "            (ratio_estimator(N, D), std_dev(N, D))\n",
    "        )\n",
    "    )\n",
    "    assert_that(\n",
    "        pairwise_recall_design_estimate(prediction, sample, weights=\"cluster_size\"),\n",
    "        equal_to(\n",
    "            (ratio_estimator(N, D1), std_dev(N, D1))\n",
    "        )\n",
    "    )"
   ]
  }
 ],
 "metadata": {
  "kernelspec": {
   "display_name": "er-evaluation",
   "language": "python",
   "name": "python3"
  },
  "language_info": {
   "codemirror_mode": {
    "name": "ipython",
    "version": 3
   },
   "file_extension": ".py",
   "mimetype": "text/x-python",
   "name": "python",
   "nbconvert_exporter": "python",
   "pygments_lexer": "ipython3",
   "version": "3.10.8 (main, Nov  4 2022, 13:48:29) [GCC 11.2.0]"
  },
  "orig_nbformat": 4,
  "vscode": {
   "interpreter": {
    "hash": "a7cfe58095853939316acebc405e10b3a49f46616572691f7cf90ff724f2bfcd"
   }
  }
 },
 "nbformat": 4,
 "nbformat_minor": 2
}
